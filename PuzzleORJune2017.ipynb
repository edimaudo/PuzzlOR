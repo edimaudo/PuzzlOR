{
  "nbformat": 4,
  "nbformat_minor": 0,
  "metadata": {
    "colab": {
      "provenance": []
    },
    "kernelspec": {
      "name": "python3",
      "display_name": "Python 3"
    },
    "language_info": {
      "name": "python"
    }
  },
  "cells": [
    {
      "cell_type": "code",
      "execution_count": null,
      "metadata": {
        "id": "MRcsNGqGse3Y"
      },
      "outputs": [],
      "source": [
        "#PuzzlOR June 2017\n",
        "#https://pubsonline.informs.org/do/10.1287/orms.2017.03.22/full/"
      ]
    },
    {
      "cell_type": "code",
      "source": [
        "# install OR tools\n",
        "!pip install ortools"
      ],
      "metadata": {
        "colab": {
          "base_uri": "https://localhost:8080/"
        },
        "id": "srAHa61Fs-Vl",
        "outputId": "df0d7a76-458e-43b6-f9dd-9e8e26df9b20"
      },
      "execution_count": 2,
      "outputs": [
        {
          "output_type": "stream",
          "name": "stdout",
          "text": [
            "Collecting ortools\n",
            "  Downloading ortools-9.6.2534-cp310-cp310-manylinux_2_17_x86_64.manylinux2014_x86_64.whl (16.4 MB)\n",
            "\u001b[2K     \u001b[90m━━━━━━━━━━━━━━━━━━━━━━━━━━━━━━━━━━━━━━━━\u001b[0m \u001b[32m16.4/16.4 MB\u001b[0m \u001b[31m52.6 MB/s\u001b[0m eta \u001b[36m0:00:00\u001b[0m\n",
            "\u001b[?25hRequirement already satisfied: absl-py>=0.13 in /usr/local/lib/python3.10/dist-packages (from ortools) (1.4.0)\n",
            "Requirement already satisfied: numpy>=1.13.3 in /usr/local/lib/python3.10/dist-packages (from ortools) (1.22.4)\n",
            "Collecting protobuf>=4.21.12 (from ortools)\n",
            "  Downloading protobuf-4.23.3-cp37-abi3-manylinux2014_x86_64.whl (304 kB)\n",
            "\u001b[2K     \u001b[90m━━━━━━━━━━━━━━━━━━━━━━━━━━━━━━━━━━━━━━\u001b[0m \u001b[32m304.5/304.5 kB\u001b[0m \u001b[31m28.3 MB/s\u001b[0m eta \u001b[36m0:00:00\u001b[0m\n",
            "\u001b[?25hRequirement already satisfied: scipy>=1.10.0 in /usr/local/lib/python3.10/dist-packages (from ortools) (1.10.1)\n",
            "Installing collected packages: protobuf, ortools\n",
            "  Attempting uninstall: protobuf\n",
            "    Found existing installation: protobuf 3.20.3\n",
            "    Uninstalling protobuf-3.20.3:\n",
            "      Successfully uninstalled protobuf-3.20.3\n",
            "Successfully installed ortools-9.6.2534 protobuf-4.23.3\n"
          ]
        }
      ]
    },
    {
      "cell_type": "markdown",
      "source": [
        "# Libraries"
      ],
      "metadata": {
        "id": "aSeFa9A9tkpO"
      }
    },
    {
      "cell_type": "code",
      "source": [
        "import numpy as np\n",
        "from ortools.linear_solver import pywraplp\n",
        "from ortools.init import pywrapinit\n",
        "from ortools.graph.python import min_cost_flow"
      ],
      "metadata": {
        "id": "UabglnS9tDH6"
      },
      "execution_count": 3,
      "outputs": []
    },
    {
      "cell_type": "markdown",
      "source": [
        "# Declare the Solver"
      ],
      "metadata": {
        "id": "to52Yt38tNCC"
      }
    },
    {
      "cell_type": "code",
      "source": [
        "# Instantiate a SimpleMinCostFlow solver.\n",
        "smcf = min_cost_flow.SimpleMinCostFlow()"
      ],
      "metadata": {
        "id": "IBOLgRu0tFtG"
      },
      "execution_count": 4,
      "outputs": []
    },
    {
      "cell_type": "markdown",
      "source": [
        "# Define the data"
      ],
      "metadata": {
        "id": "bh9DVJOvtoUA"
      }
    },
    {
      "cell_type": "code",
      "source": [],
      "metadata": {
        "id": "Sbl_z8yatn04"
      },
      "execution_count": null,
      "outputs": []
    }
  ]
}